{
 "cells": [
  {
   "cell_type": "code",
   "execution_count": 2,
   "metadata": {},
   "outputs": [],
   "source": [
    "from pyspark.sql import SparkSession\n",
    "from pyspark.sql.types import *\n",
    "from pyspark.sql.functions import *\n",
    "spark = SparkSession.builder \\\n",
    "        .appName(\"ETL-with-spark\") \\\n",
    "        .getOrCreate()"
   ]
  },
  {
   "cell_type": "code",
   "execution_count": 28,
   "metadata": {},
   "outputs": [],
   "source": [
    "parquet_file_path = 'data/green_taxi'\n",
    "df = spark.read.parquet(parquet_file_path)\n",
    "for i in ['passenger_count', 'RateCodeID', 'payment_type', 'trip_type']:\n",
    "    df = df.withColumn(i, col(i).cast(IntegerType()))"
   ]
  },
  {
   "cell_type": "code",
   "execution_count": 29,
   "metadata": {},
   "outputs": [],
   "source": [
    "payment_type_mapping = when(col('id') == 1, 'Credit card'). \\\n",
    "                   when(col('id') == 2, 'Cash'). \\\n",
    "                   when(col('id') == 3, 'No charge'). \\\n",
    "                   when(col('id') == 4, 'Dispute'). \\\n",
    "                   when(col('id') == 5, 'Unknown').otherwise('Voided trip')\n",
    "df_payment = df.select('payment_type').withColumnRenamed('payment_type', 'id').distinct().dropna().orderBy(col('id'))\n",
    "df_payment = df_payment.withColumn('payment_type', payment_type_mapping)\n",
    "\n",
    "df_triptype = df.select('trip_type').withColumnRenamed('trip_type', 'id').distinct().dropna().orderBy(col('id'))\n",
    "df_triptype = df_triptype.withColumn('trip_type', when(col('id') == 1, 'Street-hail').\n",
    "                                        when(col('id') == 2, 'Dispatch'))\n",
    "\n",
    "rate_code_mapping = when(col('id') == 1, 'Standard rate'). \\\n",
    "                   when(col('id') == 2, 'JFK'). \\\n",
    "                   when(col('id') == 3, 'Newark'). \\\n",
    "                   when(col('id') == 4, 'Nassau or Westchester'). \\\n",
    "                   when(col('id') == 5, 'Negotiated fare').otherwise('Group ride')\n",
    "df_ratecode = df.select('RateCodeID').withColumnRenamed('RateCodeID', 'id').distinct().dropna().orderBy(col('id'))\n",
    "df_ratecode = df_ratecode.withColumn('rate_type', rate_code_mapping)\n",
    "\n",
    "df_vendor = df.select('VendorID').withColumnRenamed('VendorID', 'id').distinct().dropna().orderBy(col('id'))\n",
    "df_vendor = df_vendor.withColumn('vendor', when(col('id') == 1, 'Creative Mobile Technologies, LLC').\n",
    "                                 when(col('id') == 2, 'VeriFone Inc.'))\n",
    "\n",
    "trip_time_in_mins = unix_timestamp(col('lpep_dropoff_datetime')) - unix_timestamp(col('lpep_pickup_datetime'))\n",
    "df = df.withColumn('trip_time_in_mins', round(trip_time_in_mins / 60, 2))"
   ]
  },
  {
   "cell_type": "code",
   "execution_count": 7,
   "metadata": {},
   "outputs": [
    {
     "name": "stdout",
     "output_type": "stream",
     "text": [
      "+-------------+\n",
      "|      Borough|\n",
      "+-------------+\n",
      "|       Queens|\n",
      "|          EWR|\n",
      "|      Unknown|\n",
      "|     Brooklyn|\n",
      "|Staten Island|\n",
      "|    Manhattan|\n",
      "|        Bronx|\n",
      "+-------------+\n",
      "\n"
     ]
    }
   ],
   "source": [
    "df_zone = spark.read.csv('data/taxi_zone_lookup.csv', inferSchema=True, header=True)\n",
    "df_zone = df_zone.filter(col('Borough') != 'Unknown')"
   ]
  },
  {
   "cell_type": "code",
   "execution_count": 6,
   "metadata": {},
   "outputs": [
    {
     "name": "stdout",
     "output_type": "stream",
     "text": [
      "root\n",
      " |-- LocationID: integer (nullable = true)\n",
      " |-- Borough: string (nullable = true)\n",
      " |-- Zone: string (nullable = true)\n",
      " |-- service_zone: string (nullable = true)\n",
      "\n"
     ]
    }
   ],
   "source": [
    "df_zone.printSchema()"
   ]
  }
 ],
 "metadata": {
  "kernelspec": {
   "display_name": "Python 3",
   "language": "python",
   "name": "python3"
  },
  "language_info": {
   "codemirror_mode": {
    "name": "ipython",
    "version": 3
   },
   "file_extension": ".py",
   "mimetype": "text/x-python",
   "name": "python",
   "nbconvert_exporter": "python",
   "pygments_lexer": "ipython3",
   "version": "3.10.8"
  },
  "orig_nbformat": 4
 },
 "nbformat": 4,
 "nbformat_minor": 2
}
