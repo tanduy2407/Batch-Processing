{
 "cells": [
  {
   "cell_type": "code",
   "execution_count": 9,
   "metadata": {},
   "outputs": [],
   "source": [
    "from pyspark.sql import SparkSession\n",
    "from pyspark.sql.types import *\n",
    "from pyspark.sql.functions import *\n",
    "spark = SparkSession.builder \\\n",
    "        .appName(\"ETL-with-spark\") \\\n",
    "        .getOrCreate()"
   ]
  },
  {
   "cell_type": "code",
   "execution_count": 10,
   "metadata": {},
   "outputs": [],
   "source": [
    "parquet_file_path = 'data/green_taxi'\n",
    "df = spark.read.parquet(parquet_file_path)\n",
    "for i in ['passenger_count', 'RateCodeID', 'payment_type', 'trip_type']:\n",
    "    df = df.withColumn(i, col(i).cast(IntegerType()))"
   ]
  },
  {
   "cell_type": "code",
   "execution_count": 11,
   "metadata": {},
   "outputs": [],
   "source": [
    "payment_type_mapping = when(col('id') == 1, 'Credit card'). \\\n",
    "                   when(col('id') == 2, 'Cash'). \\\n",
    "                   when(col('id') == 3, 'No charge'). \\\n",
    "                   when(col('id') == 4, 'Dispute'). \\\n",
    "                   when(col('id') == 5, 'Unknown').otherwise('Voided trip')\n",
    "df_payment = df.select('payment_type').withColumnRenamed('payment_type', 'id').distinct().dropna().orderBy(col('id'))\n",
    "df_payment = df_payment.withColumn('payment_type', payment_type_mapping)\n",
    "\n",
    "df_triptype = df.select('trip_type').withColumnRenamed('trip_type', 'id').distinct().dropna().orderBy(col('id'))\n",
    "df_triptype = df_triptype.withColumn('trip_type', when(col('id') == 1, 'Street-hail').\n",
    "                                        when(col('id') == 2, 'Dispatch'))\n",
    "\n",
    "rate_code_mapping = when(col('id') == 1, 'Standard rate'). \\\n",
    "                   when(col('id') == 2, 'JFK'). \\\n",
    "                   when(col('id') == 3, 'Newark'). \\\n",
    "                   when(col('id') == 4, 'Nassau or Westchester'). \\\n",
    "                   when(col('id') == 5, 'Negotiated fare').otherwise('Group ride')\n",
    "df_ratecode = df.select('RateCodeID').withColumnRenamed('RateCodeID', 'id').distinct().dropna().orderBy(col('id'))\n",
    "df_ratecode = df_ratecode.withColumn('rate_type', rate_code_mapping)\n",
    "\n",
    "df_vendor = df.select('VendorID').withColumnRenamed('VendorID', 'id').distinct().dropna().orderBy(col('id'))\n",
    "df_vendor = df_vendor.withColumn('vendor', when(col('id') == 1, 'Creative Mobile Technologies, LLC').\n",
    "                                 when(col('id') == 2, 'VeriFone Inc.'))\n",
    "\n",
    "trip_time_in_mins = unix_timestamp(col('lpep_dropoff_datetime')) - unix_timestamp(col('lpep_pickup_datetime'))\n",
    "df = df.withColumn('trip_time_in_mins', round(trip_time_in_mins / 60, 2))"
   ]
  },
  {
   "cell_type": "code",
   "execution_count": 14,
   "metadata": {},
   "outputs": [
    {
     "name": "stdout",
     "output_type": "stream",
     "text": [
      "+----------+-------------+--------------------+------------+\n",
      "|LocationID|      Borough|                Zone|service_zone|\n",
      "+----------+-------------+--------------------+------------+\n",
      "|         1|          EWR|      Newark Airport|         EWR|\n",
      "|         2|       Queens|         Jamaica Bay|   Boro Zone|\n",
      "|         3|        Bronx|Allerton/Pelham G...|   Boro Zone|\n",
      "|         4|    Manhattan|       Alphabet City| Yellow Zone|\n",
      "|         5|Staten Island|       Arden Heights|   Boro Zone|\n",
      "|         6|Staten Island|Arrochar/Fort Wad...|   Boro Zone|\n",
      "|         7|       Queens|             Astoria|   Boro Zone|\n",
      "|         8|       Queens|        Astoria Park|   Boro Zone|\n",
      "|         9|       Queens|          Auburndale|   Boro Zone|\n",
      "|        10|       Queens|        Baisley Park|   Boro Zone|\n",
      "|        11|     Brooklyn|          Bath Beach|   Boro Zone|\n",
      "|        12|    Manhattan|        Battery Park| Yellow Zone|\n",
      "|        13|    Manhattan|   Battery Park City| Yellow Zone|\n",
      "|        14|     Brooklyn|           Bay Ridge|   Boro Zone|\n",
      "|        15|       Queens|Bay Terrace/Fort ...|   Boro Zone|\n",
      "|        16|       Queens|             Bayside|   Boro Zone|\n",
      "|        17|     Brooklyn|             Bedford|   Boro Zone|\n",
      "|        18|        Bronx|        Bedford Park|   Boro Zone|\n",
      "|        19|       Queens|           Bellerose|   Boro Zone|\n",
      "|        20|        Bronx|             Belmont|   Boro Zone|\n",
      "+----------+-------------+--------------------+------------+\n",
      "only showing top 20 rows\n",
      "\n"
     ]
    }
   ],
   "source": [
    "df_zone = spark.read.csv('data/taxi_zone_lookup.csv', inferSchema=True, header=True)\n",
    "df_zone = df_zone.filter(col('Borough') != 'Unknown')\n",
    "df_zone.show()"
   ]
  },
  {
   "cell_type": "code",
   "execution_count": 12,
   "metadata": {},
   "outputs": [
    {
     "name": "stdout",
     "output_type": "stream",
     "text": [
      "+--------+--------------------+---------------------+------------------+----------+------------+------------+---------------+-------------+-----------+-----+-------+----------+------------+---------+---------------------+------------+------------+---------+--------------------+-----------------+\n",
      "|VendorID|lpep_pickup_datetime|lpep_dropoff_datetime|store_and_fwd_flag|RateCodeID|PULocationID|DOLocationID|passenger_count|trip_distance|fare_amount|extra|mta_tax|tip_amount|tolls_amount|ehail_fee|improvement_surcharge|total_amount|payment_type|trip_type|congestion_surcharge|trip_time_in_mins|\n",
      "+--------+--------------------+---------------------+------------------+----------+------------+------------+---------------+-------------+-----------+-----+-------+----------+------------+---------+---------------------+------------+------------+---------+--------------------+-----------------+\n",
      "|       2| 2022-02-01 07:20:21|  2022-02-01 07:24:30|                 N|         1|          43|         238|              1|         1.16|        5.5|  0.5|    0.5|      1.02|         0.0|     null|                  0.3|        7.82|           1|        1|                 0.0|             4.15|\n",
      "|       2| 2022-02-01 07:32:26|  2022-02-01 07:35:31|                 N|         1|         166|          24|              1|         0.57|        4.5|  0.5|    0.5|       0.0|         0.0|     null|                  0.3|         5.8|           2|        1|                 0.0|             3.08|\n",
      "|       1| 2022-02-01 07:17:27|  2022-02-01 07:44:44|                 N|         1|         226|         219|              1|          0.0|       42.2|  0.0|    0.5|       0.0|         0.0|     null|                  0.3|        43.0|           1|        1|                 0.0|            27.28|\n",
      "|       2| 2022-02-01 07:45:37|  2022-02-01 08:27:16|                 N|         1|          89|          83|              1|        16.62|       49.0|  0.5|    0.5|       0.0|         0.0|     null|                  0.3|        50.3|           2|        1|                 0.0|            41.65|\n",
      "|       2| 2022-02-01 07:06:46|  2022-02-01 07:30:06|                 N|         1|           7|         238|              1|         5.97|       21.0|  0.5|    0.5|       4.5|         0.0|     null|                  0.3|       29.55|           1|        1|                2.75|            23.33|\n",
      "|       2| 2022-02-01 07:26:19|  2022-02-01 07:26:28|                 N|         5|         197|         197|              1|          0.0|        8.0|  0.0|    0.0|       0.0|         0.0|     null|                  0.3|         8.3|           1|        2|                 0.0|             0.15|\n",
      "|       2| 2022-02-01 07:01:11|  2022-02-01 07:09:58|                 N|         1|         166|         116|              1|         1.77|        8.5|  0.5|    0.5|      1.96|         0.0|     null|                  0.3|       11.76|           1|        1|                 0.0|             8.78|\n",
      "|       2| 2022-02-01 07:16:47|  2022-02-01 07:36:18|                 N|         4|         244|         265|              2|         7.51|       23.0|  0.5|    0.5|       0.0|         0.0|     null|                  0.3|        24.3|           2|        1|                 0.0|            19.52|\n",
      "|       2| 2022-02-01 07:54:37|  2022-02-01 07:57:16|                 N|         1|         127|         243|              1|          0.5|        4.0|  0.5|    0.5|       0.0|         0.0|     null|                  0.3|         5.3|           2|        1|                 0.0|             2.65|\n",
      "|       2| 2022-01-31 21:45:51|  2022-01-31 21:54:58|                 N|         1|          75|          42|              1|         2.87|       10.0|  0.5|    0.5|       0.0|         0.0|     null|                  0.3|        11.3|           2|        1|                 0.0|             9.12|\n",
      "|       2| 2022-01-31 22:15:28|  2022-01-31 22:21:05|                 N|         1|          75|          75|              1|         0.78|        5.5|  0.5|    0.5|      1.36|         0.0|     null|                  0.3|        8.16|           1|        1|                 0.0|             5.62|\n",
      "|       2| 2022-02-01 07:09:25|  2022-02-01 07:24:23|                 N|         1|         244|         208|              1|         7.16|       21.5|  0.5|    0.5|       2.0|         0.0|     null|                  0.3|        24.8|           1|        1|                 0.0|            14.97|\n",
      "|       2| 2022-02-01 07:02:18|  2022-02-01 07:25:07|                 N|         1|         116|         164|              1|         7.11|       24.0|  0.5|    0.5|       0.0|         0.0|     null|                  0.3|       28.05|           2|        1|                2.75|            22.82|\n",
      "|       2| 2022-02-01 07:05:12|  2022-02-01 07:13:40|                 N|         1|          95|         196|              1|         1.45|        7.0|  0.5|    0.5|      2.49|         0.0|     null|                  0.3|       10.79|           1|        1|                 0.0|             8.47|\n",
      "|       2| 2022-02-01 07:16:40|  2022-02-01 07:26:23|                 N|         1|         130|          10|              1|         2.17|        9.0|  0.5|    0.5|      2.06|         0.0|     null|                  0.3|       12.36|           1|        1|                 0.0|             9.72|\n",
      "|       1| 2022-02-01 07:23:38|  2022-02-01 07:33:28|                 N|         1|         146|         223|              1|          1.9|        8.5|  0.5|    0.5|       0.0|         0.0|     null|                  0.3|         9.8|           2|        1|                 0.0|             9.83|\n",
      "|       1| 2022-02-01 07:40:34|  2022-02-01 07:47:24|                 N|         1|         179|         223|              1|          1.5|        7.0|  0.5|    0.5|      1.65|         0.0|     null|                  0.3|        9.95|           1|        1|                 0.0|             6.83|\n",
      "|       2| 2022-02-01 07:05:41|  2022-02-01 07:17:18|                 N|         1|          95|         121|              1|         2.47|       10.5|  0.5|    0.5|       0.0|         0.0|     null|                  0.3|        11.8|           1|        1|                 0.0|            11.62|\n",
      "|       1| 2022-02-01 07:51:50|  2022-02-01 08:00:03|                 N|         1|          41|         239|              1|          1.5|        7.5| 2.75|    0.5|       2.2|         0.0|     null|                  0.3|       13.25|           1|        1|                2.75|             8.22|\n",
      "|       2| 2022-02-01 07:11:23|  2022-02-01 08:00:38|                 N|         1|          83|          82|              2|         5.75|       30.5|  0.5|    0.5|       0.0|         0.0|     null|                  0.3|        31.8|           2|        1|                 0.0|            49.25|\n",
      "+--------+--------------------+---------------------+------------------+----------+------------+------------+---------------+-------------+-----------+-----+-------+----------+------------+---------+---------------------+------------+------------+---------+--------------------+-----------------+\n",
      "only showing top 20 rows\n",
      "\n"
     ]
    }
   ],
   "source": [
    "df.show()"
   ]
  }
 ],
 "metadata": {
  "kernelspec": {
   "display_name": "Python 3",
   "language": "python",
   "name": "python3"
  },
  "language_info": {
   "codemirror_mode": {
    "name": "ipython",
    "version": 3
   },
   "file_extension": ".py",
   "mimetype": "text/x-python",
   "name": "python",
   "nbconvert_exporter": "python",
   "pygments_lexer": "ipython3",
   "version": "3.10.8"
  },
  "orig_nbformat": 4
 },
 "nbformat": 4,
 "nbformat_minor": 2
}
