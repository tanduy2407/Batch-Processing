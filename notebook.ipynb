{
 "cells": [
  {
   "cell_type": "code",
   "execution_count": 1,
   "metadata": {},
   "outputs": [],
   "source": [
    "from pyspark.sql import SparkSession\n",
    "from pyspark.sql.types import *\n",
    "from pyspark.sql.functions import *\n",
    "spark = SparkSession.builder \\\n",
    "    .appName('Batch-Processing') \\\n",
    "    .config('spark.jars', 'driver/postgresql-42.6.0.jar') \\\n",
    "    .getOrCreate()"
   ]
  },
  {
   "cell_type": "code",
   "execution_count": 2,
   "metadata": {},
   "outputs": [],
   "source": [
    "import json\n",
    "def read_data(spark, table_name: str) -> DataFrame:\n",
    "    with open('config/config.json', 'r') as config_file:\n",
    "        config_data = json.load(config_file)\n",
    "        host = config_data['staging']['host']\n",
    "        port = config_data['staging']['port']\n",
    "        database = config_data['staging']['database']\n",
    "        user = config_data['staging']['user']\n",
    "        password = config_data['staging']['password']\n",
    "\n",
    "    url = 'jdbc:postgresql://{0}:{1}/{2}'.format(host, port, database)\n",
    "    properties = {\n",
    "        'user': user,\n",
    "        'password': password,\n",
    "        'driver': 'org.postgresql.Driver'}\n",
    "    df = spark.read.jdbc(url=url, table=table_name, properties=properties)\n",
    "    print(f'Read data from {table_name} successfully!')\n",
    "    return df"
   ]
  },
  {
   "cell_type": "code",
   "execution_count": 3,
   "metadata": {},
   "outputs": [
    {
     "name": "stdout",
     "output_type": "stream",
     "text": [
      "Read data from green_taxi successfully!\n"
     ]
    }
   ],
   "source": [
    "green_taxi = read_data(spark, 'green_taxi')\n",
    "# green_taxi.show()"
   ]
  },
  {
   "cell_type": "code",
   "execution_count": 4,
   "metadata": {},
   "outputs": [
    {
     "name": "stdout",
     "output_type": "stream",
     "text": [
      "Read data from taxi_zone_lookup successfully!\n"
     ]
    }
   ],
   "source": [
    "taxi_zone = read_data(spark, 'taxi_zone_lookup').select(\n",
    "    ['LocationID', 'Zone', 'Borough'])"
   ]
  },
  {
   "cell_type": "code",
   "execution_count": 5,
   "metadata": {},
   "outputs": [],
   "source": [
    "def join_data(left, right, left_on: str, right_on: str, cols_to_lookup: List[str], how='inner') -> DataFrame:\n",
    "    df = left.join(right, left[left_on] == right[right_on], how)\n",
    "    if cols_to_lookup:\n",
    "        df = df.select(cols_to_lookup)\n",
    "    return df"
   ]
  },
  {
   "cell_type": "code",
   "execution_count": 6,
   "metadata": {},
   "outputs": [
    {
     "name": "stdout",
     "output_type": "stream",
     "text": [
      "root\n",
      " |-- VendorID: long (nullable = true)\n",
      " |-- RatecodeID: double (nullable = true)\n",
      " |-- pickup_datetime: timestamp (nullable = true)\n",
      " |-- pickup_borough: string (nullable = true)\n",
      " |-- pickup_zone: string (nullable = true)\n",
      " |-- dropoff_datetime: timestamp (nullable = true)\n",
      " |-- dropoff_borough: string (nullable = true)\n",
      " |-- dropoff_zone: string (nullable = true)\n",
      " |-- passenger_count: integer (nullable = true)\n",
      " |-- trip_distance_in_km: double (nullable = true)\n",
      " |-- fare_amount: double (nullable = true)\n",
      " |-- extra: double (nullable = true)\n",
      " |-- mta_tax: double (nullable = true)\n",
      " |-- tip_amount: double (nullable = true)\n",
      " |-- tolls_amount: double (nullable = true)\n",
      " |-- ehail_fee: integer (nullable = true)\n",
      " |-- improvement_surcharge: double (nullable = true)\n",
      " |-- total_amount: double (nullable = true)\n",
      " |-- payment_type: double (nullable = true)\n",
      " |-- revenue_month: integer (nullable = true)\n",
      "\n"
     ]
    }
   ],
   "source": [
    "cols = ['VendorID', 'RatecodeID', 'pickup_datetime', 'pickup_borough', 'pickup_zone', 'dropoff_datetime', 'dropoff_borough', 'dropoff_zone', 'passenger_count',\n",
    "        'trip_distance_in_km', 'fare_amount', 'extra', 'mta_tax', 'tip_amount', 'tolls_amount', 'ehail_fee', 'improvement_surcharge', 'total_amount', 'payment_type']\n",
    "join_data_green = join_data(green_taxi, taxi_zone,\n",
    "                            'PULocationID', 'LocationID', [])\n",
    "join_data_green = join_data_green.withColumnRenamed(\n",
    "    'Zone', 'pickup_zone').withColumnRenamed('Borough', 'pickup_borough').drop('LocationID')\n",
    "join_data_green = join_data(\n",
    "    join_data_green, taxi_zone, 'DOLocationID', 'LocationID', [])\n",
    "join_data_green = join_data_green.withColumnRenamed(\n",
    "    'Zone', 'dropoff_zone').withColumnRenamed('Borough', 'dropoff_borough').drop('LocationID')\n",
    "join_data_green = join_data_green.select(cols)\n",
    "join_data_green = join_data_green.withColumn(\n",
    "    'revenue_month', month('pickup_datetime'))\n",
    "join_data_green.printSchema()"
   ]
  },
  {
   "cell_type": "code",
   "execution_count": 7,
   "metadata": {},
   "outputs": [
    {
     "name": "stdout",
     "output_type": "stream",
     "text": [
      "+--------------------+-------------+--------------------+---------------------+-----------------------+--------------------------+----------------------------+----------------------------+--------------------+-------------------+---------------------------+-------------------------+\n",
      "|         pickup_zone|revenue_month|revenue_monthly_fare|revenue_monthly_extra|revenue_monthly_mta_tax|revenue_monthly_tip_amount|revenue_monthly_tolls_amount|revenue_monthly_total_amount|congestion_surcharge|total_monthly_trips|avg_monthly_passenger_count|avg_monthly_trip_distance|\n",
      "+--------------------+-------------+--------------------+---------------------+-----------------------+--------------------------+----------------------------+----------------------------+--------------------+-------------------+---------------------------+-------------------------+\n",
      "|       Port Richmond|            2|                16.0|                  0.5|                    0.5|                       2.0|                         0.0|                        19.3|                 0.5|                  1|                        3.0|                     7.06|\n",
      "|           Bellerose|            2|                63.5|                  0.0|                    1.0|                       0.0|                         0.0|           68.14999999999999|                 1.0|                  3|         1.6666666666666667|                      9.6|\n",
      "|Upper East Side S...|            1|               108.5|                  0.0|                    0.0|                     21.63|                       13.75|                      150.28|                 0.0|                  3|                       null|        8.363333333333333|\n",
      "|Williamsburg (Nor...|            2|             5079.96|                 59.5|                   65.0|                    934.56|           64.14999999999999|           6565.520000000002|                65.0|                287|                        1.4|       449.63132404181175|\n",
      "|Upper West Side S...|            1|  167.01999999999998|                  1.0|                    1.0|                      34.1|                        13.1|                      228.72|                 1.0|                  5|                        1.5|       12.168000000000001|\n",
      "|            Gramercy|            2|              138.11|                  0.0|                    0.5|                     25.35|                        26.2|                      199.61|                 0.5|                  4|                        1.0|                   7.8725|\n",
      "| Ocean Parkway South|            2|               155.6|                  1.0|                    3.5|                       0.0|                         0.0|                       162.2|                 3.5|                  7|         1.4285714285714286|        5.162857142857143|\n",
      "|Prospect-Lefferts...|            2|  3100.8100000000013|                  3.5|                   34.0|                    315.98|           50.74999999999999|                     3581.44|                34.0|                141|                      1.125|        1886.371843971631|\n",
      "|       Rockaway Park|            1|               152.6|                  0.0|                    1.5|                       0.0|                        18.0|                       173.0|                 1.5|                  3|                        1.0|                      0.0|\n",
      "|           Stapleton|            1|              106.77|                  0.0|                    0.0|                     11.12|                        26.2|                      144.69|                 0.0|                  2|                       null|                    11.24|\n",
      "|East New York/Pen...|            1|              436.44|                  0.0|                    6.0|                     13.27|                        6.55|          468.56000000000006|                 6.0|                 21|         0.7692307692307693|        4.481428571428571|\n",
      "|      Central Harlem|            2|   59482.60999999987|              1565.25|                 2397.5|         7631.640000000025|           840.5999999999983|           77173.75000000346|              2397.5|               5437|         1.2235631008386174|       138.19196615780754|\n",
      "|Briarwood/Jamaica...|            2|  2433.7099999999996|                 16.5|                   16.0|                     92.21|                        39.3|           2622.119999999999|                16.0|                 63|         1.2181818181818183|        6.032539682539683|\n",
      "|       Fordham South|            1|             2598.43|                  4.0|                    6.5|                     10.18|                        6.55|          2660.8100000000004|                 6.5|                108|                        1.4|         740.750740740741|\n",
      "|          Greenpoint|            3|               15.52|                  0.0|                    0.0|                       0.0|                         0.0|                       15.82|                 0.0|                  1|                       null|                     5.42|\n",
      "|    Bensonhurst West|            3|                14.0|                  0.5|                    0.5|                       0.0|                         0.0|                        15.3|                 0.5|                  1|                        1.0|                      5.3|\n",
      "|          Bronx Park|            2|              217.43|                  1.0|                    2.5|                     16.68|                        13.1|                      261.66|                 2.5|                  9|                        1.0|       7.8244444444444445|\n",
      "|Schuylerville/Edg...|            2|              426.45|                  1.5|                    9.0|                      4.82|                       19.65|           468.0200000000001|                 9.0|                 23|         1.1428571428571428|        8336.516521739131|\n",
      "|             Jamaica|            3|                95.5|                  6.5|                    4.5|        19.029999999999998|                         0.0|                      128.23|                 4.5|                  9|                        1.0|        4.484444444444445|\n",
      "|       Prospect Park|            2|  1130.9300000000003|                 19.5|                   26.0|         228.9899999999999|                        6.55|                     1465.07|                26.0|                 67|          1.679245283018868|       2487.5465671641796|\n",
      "+--------------------+-------------+--------------------+---------------------+-----------------------+--------------------------+----------------------------+----------------------------+--------------------+-------------------+---------------------------+-------------------------+\n",
      "only showing top 20 rows\n",
      "\n"
     ]
    }
   ],
   "source": [
    "df = join_data_green.groupBy(['pickup_zone', 'revenue_month']).agg(sum('fare_amount').alias('revenue_monthly_fare'),\n",
    "                                                                   sum('extra').alias('revenue_monthly_extra'),\n",
    "                                                                   sum('mta_tax').alias('revenue_monthly_mta_tax'),\n",
    "                                                                   sum('tip_amount').alias('revenue_monthly_tip_amount'),\n",
    "                                                                   sum('tolls_amount').alias('revenue_monthly_tolls_amount'),\n",
    "                                                                   sum('total_amount').alias('revenue_monthly_total_amount'),\n",
    "                                                                   sum('mta_tax').alias('congestion_surcharge'),\n",
    "                                                                   count('*').alias('total_monthly_trips'),\n",
    "                                                                   avg('passenger_count').alias('avg_monthly_passenger_count'),\n",
    "                                                                   avg('trip_distance_in_km').alias('avg_monthly_trip_distance'))\n",
    "df.show()"
   ]
  },
  {
   "cell_type": "code",
   "execution_count": 10,
   "metadata": {},
   "outputs": [
    {
     "name": "stdout",
     "output_type": "stream",
     "text": [
      "Read data from yellow_taxi successfully!\n"
     ]
    }
   ],
   "source": [
    "yellow_taxi = read_data(spark, 'yellow_taxi')"
   ]
  },
  {
   "cell_type": "code",
   "execution_count": 12,
   "metadata": {},
   "outputs": [
    {
     "name": "stdout",
     "output_type": "stream",
     "text": [
      "root\n",
      " |-- VendorID: long (nullable = true)\n",
      " |-- tpep_pickup_datetime: timestamp (nullable = true)\n",
      " |-- tpep_dropoff_datetime: timestamp (nullable = true)\n",
      " |-- passenger_count: integer (nullable = true)\n",
      " |-- trip_distance: double (nullable = true)\n",
      " |-- RatecodeID: double (nullable = true)\n",
      " |-- store_and_fwd_flag: string (nullable = true)\n",
      " |-- PULocationID: long (nullable = true)\n",
      " |-- DOLocationID: long (nullable = true)\n",
      " |-- payment_type: long (nullable = true)\n",
      " |-- fare_amount: double (nullable = true)\n",
      " |-- extra: double (nullable = true)\n",
      " |-- mta_tax: double (nullable = true)\n",
      " |-- tip_amount: double (nullable = true)\n",
      " |-- tolls_amount: double (nullable = true)\n",
      " |-- improvement_surcharge: double (nullable = true)\n",
      " |-- total_amount: double (nullable = true)\n",
      " |-- congestion_surcharge: double (nullable = true)\n",
      " |-- airport_fee: double (nullable = true)\n",
      " |-- trip_time_in_mins: double (nullable = true)\n",
      " |-- trip_distance_in_km: double (nullable = true)\n",
      " |-- average_velocity: double (nullable = true)\n",
      "\n"
     ]
    }
   ],
   "source": [
    "yellow_taxi.printSchema()\n"
   ]
  },
  {
   "cell_type": "code",
   "execution_count": null,
   "metadata": {},
   "outputs": [],
   "source": [
    "load(df, schema='production', table_name=name)\n"
   ]
  }
 ],
 "metadata": {
  "kernelspec": {
   "display_name": "Python 3",
   "language": "python",
   "name": "python3"
  },
  "language_info": {
   "codemirror_mode": {
    "name": "ipython",
    "version": 3
   },
   "file_extension": ".py",
   "mimetype": "text/x-python",
   "name": "python",
   "nbconvert_exporter": "python",
   "pygments_lexer": "ipython3",
   "version": "3.10.8"
  },
  "orig_nbformat": 4
 },
 "nbformat": 4,
 "nbformat_minor": 2
}
