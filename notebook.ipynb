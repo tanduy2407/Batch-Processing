{
 "cells": [
  {
   "cell_type": "code",
   "execution_count": 1,
   "metadata": {},
   "outputs": [],
   "source": [
    "from pyspark.sql import SparkSession\n",
    "from pyspark.sql.types import *\n",
    "from pyspark.sql.functions import *\n",
    "spark = SparkSession.builder \\\n",
    "        .appName(\"ETL-with-spark\") \\\n",
    "\t\t.config('spark.jars', 'driver/postgresql-42.6.0.jar') \\\n",
    "        .getOrCreate()"
   ]
  },
  {
   "cell_type": "code",
   "execution_count": 2,
   "metadata": {},
   "outputs": [],
   "source": [
    "import json\n",
    "def read_data(spark, table_name:str) -> DataFrame:\n",
    "\twith open('config/config.json', 'r') as config_file:\n",
    "\t\tconfig_data = json.load(config_file)\n",
    "\t\thost = config_data['staging']['host']\n",
    "\t\tport = config_data['staging']['port']\n",
    "\t\tdatabase = config_data['staging']['database']\n",
    "\t\tuser = config_data['staging']['user']\n",
    "\t\tpassword = config_data['staging']['password']\n",
    "\n",
    "\turl = 'jdbc:postgresql://{0}:{1}/{2}'.format(host, port, database)\n",
    "\tproperties = {\n",
    "\t\t'user': user,\n",
    "\t\t'password': password,\n",
    "\t\t'driver': 'org.postgresql.Driver'}\n",
    "\tdf = spark.read.jdbc(url=url, table=table_name, properties=properties)\n",
    "\tprint(f'Read data from {table_name} successfully!')\n",
    "\treturn df"
   ]
  },
  {
   "cell_type": "code",
   "execution_count": null,
   "metadata": {},
   "outputs": [],
   "source": [
    "green_taxi = read_data(spark, 'green_taxi')\n",
    "green_taxi.show()"
   ]
  },
  {
   "cell_type": "code",
   "execution_count": 5,
   "metadata": {},
   "outputs": [
    {
     "name": "stdout",
     "output_type": "stream",
     "text": [
      "Read data from taxi_zone_lookup successfully!\n",
      "+----------+-------------+--------------------+------------+\n",
      "|LocationID|      Borough|                Zone|service_zone|\n",
      "+----------+-------------+--------------------+------------+\n",
      "|         1|          EWR|      Newark Airport|         EWR|\n",
      "|         2|       Queens|         Jamaica Bay|   Boro Zone|\n",
      "|         3|        Bronx|Allerton/Pelham G...|   Boro Zone|\n",
      "|         4|    Manhattan|       Alphabet City| Yellow Zone|\n",
      "|         5|Staten Island|       Arden Heights|   Boro Zone|\n",
      "|         6|Staten Island|Arrochar/Fort Wad...|   Boro Zone|\n",
      "|         7|       Queens|             Astoria|   Boro Zone|\n",
      "|         8|       Queens|        Astoria Park|   Boro Zone|\n",
      "|         9|       Queens|          Auburndale|   Boro Zone|\n",
      "|        10|       Queens|        Baisley Park|   Boro Zone|\n",
      "|        11|     Brooklyn|          Bath Beach|   Boro Zone|\n",
      "|        12|    Manhattan|        Battery Park| Yellow Zone|\n",
      "|        13|    Manhattan|   Battery Park City| Yellow Zone|\n",
      "|        14|     Brooklyn|           Bay Ridge|   Boro Zone|\n",
      "|        15|       Queens|Bay Terrace/Fort ...|   Boro Zone|\n",
      "|        16|       Queens|             Bayside|   Boro Zone|\n",
      "|        17|     Brooklyn|             Bedford|   Boro Zone|\n",
      "|        18|        Bronx|        Bedford Park|   Boro Zone|\n",
      "|        19|       Queens|           Bellerose|   Boro Zone|\n",
      "|        20|        Bronx|             Belmont|   Boro Zone|\n",
      "+----------+-------------+--------------------+------------+\n",
      "only showing top 20 rows\n",
      "\n"
     ]
    }
   ],
   "source": [
    "taxi_zone = read_data(spark, 'taxi_zone_lookup')\n",
    "taxi_zone.show()"
   ]
  },
  {
   "cell_type": "code",
   "execution_count": 8,
   "metadata": {},
   "outputs": [
    {
     "name": "stdout",
     "output_type": "stream",
     "text": [
      "+--------+--------------------+---------------------+------------------+----------+------------+------------+---------------+-------------+-----------+-----+-------+----------+------------+---------+---------------------+------------+------------+---------+--------------------+-----------------+-------------------+----------------+----------+--------------+--------+\n",
      "|VendorID|lpep_pickup_datetime|lpep_dropoff_datetime|store_and_fwd_flag|RatecodeID|PULocationID|DOLocationID|passenger_count|trip_distance|fare_amount|extra|mta_tax|tip_amount|tolls_amount|ehail_fee|improvement_surcharge|total_amount|payment_type|trip_type|congestion_surcharge|trip_time_in_mins|trip_distance_in_km|average_velocity|LocationID|   pickup_zone| Borough|\n",
      "+--------+--------------------+---------------------+------------------+----------+------------+------------+---------------+-------------+-----------+-----+-------+----------+------------+---------+---------------------+------------+------------+---------+--------------------+-----------------+-------------------+----------------+----------+--------------+--------+\n",
      "|       1| 2022-01-01 08:03:57|  2022-01-01 08:07:44|                 N|       1.0|          29|         210|              1|          0.9|        5.0|  0.5|    0.5|       0.0|         0.0|     null|                  0.3|         6.3|         2.0|      1.0|                 0.0|             3.78|               1.44|           22.86|        29|Brighton Beach|Brooklyn|\n",
      "|       1| 2022-02-01 19:26:22|  2022-02-01 19:46:56|                 N|       1.0|          26|         108|              1|          0.0|       22.2|  0.0|    0.5|       0.0|         0.0|     null|                  0.3|        23.0|         1.0|      1.0|                 0.0|            20.57|                0.0|             0.0|        26|  Borough Park|Brooklyn|\n",
      "|       1| 2022-02-01 19:03:02|  2022-02-01 20:01:09|                 N|       1.0|          26|          76|              1|          0.0|       30.2|  0.0|    0.5|       0.0|         0.0|     null|                  0.3|        31.0|         1.0|      1.0|                 0.0|            58.12|                0.0|             0.0|        26|  Borough Park|Brooklyn|\n",
      "|       1| 2022-01-01 21:36:03|  2022-01-01 22:18:37|                 N|       1.0|          29|          43|              1|          0.0|       54.2|  0.0|    0.5|       0.0|         0.0|     null|                  0.3|        55.0|         1.0|      1.0|                 0.0|            42.57|                0.0|             0.0|        29|Brighton Beach|Brooklyn|\n",
      "|       1| 2022-02-01 21:46:57|  2022-02-01 21:55:00|                 N|       1.0|          26|          26|              1|          0.0|       14.2|  0.0|    0.5|       0.0|         0.0|     null|                  0.3|        15.0|         1.0|      1.0|                 0.0|             8.05|                0.0|             0.0|        26|  Borough Park|Brooklyn|\n",
      "|       1| 2022-02-02 04:32:33|  2022-02-02 04:37:38|                 N|       1.0|          29|         210|              1|          0.7|        5.0|  0.5|    0.5|       0.0|         0.0|     null|                  0.3|         6.3|         2.0|      1.0|                 0.0|             5.08|               1.12|           13.23|        29|Brighton Beach|Brooklyn|\n",
      "|       2| 2022-02-02 20:47:26|  2022-02-02 21:05:27|                 N|       1.0|          29|         154|              1|         4.59|       16.0|  0.0|    0.5|       0.0|         0.0|     null|                  0.3|        16.8|         2.0|      1.0|                 0.0|            18.02|               7.34|           24.44|        29|Brighton Beach|Brooklyn|\n",
      "|       2| 2022-02-03 00:42:47|  2022-02-03 01:01:28|                 N|       1.0|          29|         178|              1|         2.09|       13.0|  1.0|    0.5|       0.0|         0.0|     null|                  0.3|        14.8|         2.0|      1.0|                 0.0|            18.68|               3.34|           10.73|        29|Brighton Beach|Brooklyn|\n",
      "|       1| 2022-02-03 17:21:22|  2022-02-03 18:20:30|                 N|       1.0|          26|         243|              1|          0.0|       53.2|  0.0|    0.5|       0.0|         0.0|     null|                  0.3|        54.0|         1.0|      1.0|                 0.0|            59.13|                0.0|             0.0|        26|  Borough Park|Brooklyn|\n",
      "|       1| 2022-02-03 19:52:51|  2022-02-03 20:56:09|                 N|       1.0|          29|          48|              1|          0.0|       67.2|  0.0|    0.5|       0.0|         0.0|     null|                  0.3|        68.0|         1.0|      1.0|                 0.0|             63.3|                0.0|             0.0|        29|Brighton Beach|Brooklyn|\n",
      "|       1| 2022-02-03 23:53:17|  2022-02-04 00:06:08|                 N|       1.0|          29|          55|              1|          0.0|       15.2|  0.0|    0.5|       0.0|         0.0|     null|                  0.3|        16.0|         1.0|      1.0|                 0.0|            12.85|                0.0|             0.0|        29|Brighton Beach|Brooklyn|\n",
      "|       1| 2022-02-04 00:08:37|  2022-02-04 01:30:04|                 N|       1.0|          29|          29|              1|          0.0|       15.2|  0.0|    0.5|       0.0|         0.0|     null|                  0.3|        16.0|         1.0|      1.0|                 0.0|            81.45|                0.0|             0.0|        29|Brighton Beach|Brooklyn|\n",
      "|       1| 2022-02-04 20:58:55|  2022-02-04 20:59:07|                 N|       1.0|          26|          26|              0|          0.0|        2.5|  0.0|    0.5|       0.0|         0.0|     null|                  0.3|         3.3|         3.0|      1.0|                 0.0|              0.2|                0.0|             0.0|        26|  Borough Park|Brooklyn|\n",
      "|       1| 2022-01-03 17:53:04|  2022-01-03 18:35:53|                 N|       1.0|          29|         230|              1|          0.0|       59.2|  0.0|    0.5|       0.0|         0.0|     null|                  0.3|        60.0|         1.0|      1.0|                 0.0|            42.82|                0.0|             0.0|        29|Brighton Beach|Brooklyn|\n",
      "|       1| 2022-01-03 20:08:16|  2022-01-03 20:18:49|                 N|       1.0|          26|          22|              1|          0.0|       15.2|  0.0|    0.5|       0.0|         0.0|     null|                  0.3|        16.0|         1.0|      1.0|                 0.0|            10.55|                0.0|             0.0|        26|  Borough Park|Brooklyn|\n",
      "|       1| 2022-02-06 05:40:41|  2022-02-06 05:45:34|                 N|       1.0|          29|         210|              1|          0.6|        5.0|  0.5|    0.5|       0.0|         0.0|     null|                  0.3|         6.3|         2.0|      1.0|                 0.0|             4.88|               0.96|            11.8|        29|Brighton Beach|Brooklyn|\n",
      "|       1| 2022-02-07 12:39:03|  2022-02-07 13:01:23|                 N|       1.0|          29|         106|              1|          0.0|       29.2|  0.0|    0.5|       0.0|         0.0|     null|                  0.3|        30.0|         1.0|      1.0|                 0.0|            22.33|                0.0|             0.0|        29|Brighton Beach|Brooklyn|\n",
      "|       1| 2022-02-08 03:00:54|  2022-02-08 03:04:55|                 N|       1.0|          29|         210|              1|          0.7|        5.0|  1.0|    0.5|       0.0|         0.0|     null|                  0.3|         6.8|         2.0|      1.0|                 0.0|             4.02|               1.12|           16.72|        29|Brighton Beach|Brooklyn|\n",
      "|       1| 2022-02-08 17:19:36|  2022-02-08 18:02:45|                 N|       1.0|          26|         161|              1|          0.0|       33.2|  0.0|    0.5|       0.0|        6.55|     null|                  0.3|       40.55|         1.0|      1.0|                 0.0|            43.15|                0.0|             0.0|        26|  Borough Park|Brooklyn|\n",
      "|       1| 2022-02-08 22:05:19|  2022-02-08 22:09:09|                 N|       1.0|          26|          26|              1|          0.0|       14.2|  0.0|    0.5|       0.0|         0.0|     null|                  0.3|        15.0|         1.0|      1.0|                 0.0|             3.83|                0.0|             0.0|        26|  Borough Park|Brooklyn|\n",
      "+--------+--------------------+---------------------+------------------+----------+------------+------------+---------------+-------------+-----------+-----+-------+----------+------------+---------+---------------------+------------+------------+---------+--------------------+-----------------+-------------------+----------------+----------+--------------+--------+\n",
      "only showing top 20 rows\n",
      "\n"
     ]
    }
   ],
   "source": [
    "df = green_taxi.join(taxi_zone.select('LocationID', 'Zone', 'Borough'), green_taxi.PULocationID == taxi_zone.LocationID)\n",
    "df = df.withColumnRenamed('Zone', 'pickup_zone').withColumnRenamed('Borough', 'pickup_borough')\n",
    "df.show()"
   ]
  },
  {
   "cell_type": "code",
   "execution_count": null,
   "metadata": {},
   "outputs": [],
   "source": [
    "df.show()"
   ]
  }
 ],
 "metadata": {
  "kernelspec": {
   "display_name": "Python 3",
   "language": "python",
   "name": "python3"
  },
  "language_info": {
   "codemirror_mode": {
    "name": "ipython",
    "version": 3
   },
   "file_extension": ".py",
   "mimetype": "text/x-python",
   "name": "python",
   "nbconvert_exporter": "python",
   "pygments_lexer": "ipython3",
   "version": "3.10.9"
  },
  "orig_nbformat": 4
 },
 "nbformat": 4,
 "nbformat_minor": 2
}
